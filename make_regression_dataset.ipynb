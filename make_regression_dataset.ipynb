{
 "cells": [
  {
   "cell_type": "markdown",
   "metadata": {},
   "source": [
    "### Generate Synthetic Regression Data"
   ]
  },
  {
   "cell_type": "markdown",
   "metadata": {},
   "source": [
    "The following code is to generate the synthetic dataset with $m = pn, p\\in\\{0.5,1,2\\}, n\\in\\{100,500,1000,2000,4000,6000\\}$, where $m$ is the number of samples and $n$ is the dimension of features. Generated data would be placed in \"current_file_path/datasets/synthetic/\""
   ]
  },
  {
   "cell_type": "code",
   "execution_count": 1,
   "metadata": {},
   "outputs": [],
   "source": [
    "import csv\n",
    "import numpy as np\n",
    "from sklearn.datasets import make_regression\n",
    "multiple_list = np.array([0.5,1,2]) \n",
    "n_list = np.array([100, 500, 1000, 2000, 4000, 6000])\n",
    "for multiple in multiple_list:\n",
    "    m_list = multiple * n_list\n",
    "    for i in range(len(m_list)):\n",
    "        m, n = int(m_list[i]), int(n_list[i])\n",
    "        X, y = make_regression(n_samples=m,n_features=n,noise=0.1)\n",
    "        y = y.reshape((m,1))\n",
    "        combine = np.hstack((X,y))\n",
    "        data_name = './datasets/synthetic/m'+ str(m) + 'n' + str(n) + '.csv'\n",
    "        np.savetxt(data_name,combine,delimiter=\",\")"
   ]
  },
  {
   "cell_type": "code",
   "execution_count": null,
   "metadata": {},
   "outputs": [],
   "source": []
  }
 ],
 "metadata": {
  "kernelspec": {
   "display_name": "Python 3",
   "language": "python",
   "name": "python3"
  },
  "language_info": {
   "codemirror_mode": {
    "name": "ipython",
    "version": 3
   },
   "file_extension": ".py",
   "mimetype": "text/x-python",
   "name": "python",
   "nbconvert_exporter": "python",
   "pygments_lexer": "ipython3",
   "version": "3.6.12"
  }
 },
 "nbformat": 4,
 "nbformat_minor": 4
}
